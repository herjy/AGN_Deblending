{
 "cells": [
  {
   "cell_type": "markdown",
   "metadata": {},
   "source": [
    "# Making Cube images\n",
    "\n",
    "This notebook makes cubes out of '.fits' images and their PSF' of 5 different bands obtained by the Hyper Suprime Cam (HSC) Telescope in order to use them along with Scarlet package and same images from the HST telscope for the purpose of separating (deblending) hosting Galaxies from Quasars"
   ]
  },
  {
   "cell_type": "code",
   "execution_count": 1,
   "metadata": {},
   "outputs": [],
   "source": [
    "# import numpy as np\n",
    "import scarlet\n",
    "import scarlet.display \n",
    "from scarlet.display import AsinhMapping\n",
    "from scarlet.initialization import build_initialization_coadd\n",
    "\n",
    "from astropy.wcs import WCS\n",
    "from astropy.nddata import Cutout2D\n",
    "\n",
    "\n",
    "import pylab as plt\n",
    "import astropy.io.fits as fits\n",
    "from astropy.io import fits as pf\n",
    "from astropy.visualization import astropy_mpl_style\n",
    "import os, re\n",
    "\n",
    "%matplotlib inline\n",
    "\n",
    "plt.style.use(astropy_mpl_style)\n",
    "\n",
    "import matplotlib\n",
    "import matplotlib.pyplot as plt\n",
    "\n",
    "# use a better colormap and don't interpolate the pixels\n",
    "matplotlib.rc('image', cmap='gist_stern')\n",
    "matplotlib.rc('image', interpolation='none')\n",
    "\n",
    "from astropy.nddata import Cutout2D\n",
    "import warnings\n",
    "warnings.simplefilter(\"ignore\")\n"
   ]
  },
  {
   "cell_type": "markdown",
   "metadata": {},
   "source": [
    "### 1. HSC Cube"
   ]
  },
  {
   "cell_type": "code",
   "execution_count": 2,
   "metadata": {},
   "outputs": [
    {
     "ename": "OSError",
     "evalue": "[Errno 24] Too many open files: './data/HSC_Images/41-cutout-HSC-R-9813-pdr2_dud.fits'",
     "output_type": "error",
     "traceback": [
      "\u001b[0;31m---------------------------------------------------------------------------\u001b[0m"
     ]
    }
   ],
   "source": [
    "#location of the HSC images\n",
    "path = './data/HSC_Images/'\n",
    "\n",
    "\n",
    "#sort HSC fits files based on their starting name index in an ordered list\n",
    "images = []\n",
    "wcss = []\n",
    "# We use images' statring name (in our case it start with a number from 2 up 70) to loop through the different bands\n",
    "# Each 5 bands image has the same staring number, the only difference is the band name (G, I, R, Y, Z)\n",
    "for i in range (2, len(os.listdir(path))+1):\n",
    "    for image in os.listdir(path):\n",
    "        if re.match(str(i)+'-', image):\n",
    "            hdus = fits.open(path + image)[1]\n",
    "            # WCS assign sky coordinates to the files in order to get their location and match it later with HST images\n",
    "            wcs = WCS(hdus.header)\n",
    "            img = hdus.data\n",
    "            ny, nx = img.shape\n",
    "            #Cutout2D is for the purpose of reducing the orignal size of images, we take the center of the image as a reference\n",
    "            cut = Cutout2D(img, (ny//2, nx//2), (50, 50), wcs = wcs)\n",
    "            images.append(cut.data)\n",
    "            wcss.append(cut.wcs)\n",
    "#             plt.imshow(img)\n",
    "#             plt.show()\n",
    "\n",
    "# creat a folder to save the HSC_cube images \n",
    "path_hsc_cube = '/./data/HSC_cube'\n",
    "    \n",
    "# save the hdu's in an array of size 5 each (i.e. based on the number of bands)\n",
    "\n",
    "ind = 2\n",
    "for i in range(0, len(images), 5):\n",
    "    hdu = fits.PrimaryHDU(images[i : i+5], wcss[i].to_header())\n",
    "    hdul = pf.HDUList([hdu])\n",
    "    \n",
    "    #name the newly formed cube images, and then save them to a new folder\n",
    "#     hdul.writeto(path_hsc_cube + f'/{ind}-cube_hsc_image.fits', clobber=True)\n",
    "    ind += 1\n",
    "\n",
    "\n",
    "#     asinh= scarlet.display.AsinhMapping(minimum=img.min(), stretch=1, Q=1)\n",
    "#     img_rgb= scarlet.display.img_to_rgb(images[i], norm=asinh)\n",
    "\n",
    "#     plt.imshow(img_rgb)\n",
    "#     plt.show()\n"
   ]
  },
  {
   "cell_type": "markdown",
   "metadata": {},
   "source": [
    "### 2. HSC PSF Cube"
   ]
  },
  {
   "cell_type": "code",
   "execution_count": 3,
   "metadata": {},
   "outputs": [
    {
     "name": "stderr",
     "output_type": "stream",
     "text": [
      "ERROR:root:Internal Python error in the inspect module.\n",
      "Below is the traceback from this internal error.\n",
      "\n"
     ]
    },
    {
     "name": "stdout",
     "output_type": "stream",
     "text": [
      "Traceback (most recent call last):\n",
      "  File \"/anaconda3/lib/python3.7/site-packages/IPython/core/interactiveshell.py\", line 3326, in run_code\n",
      "  File \"<ipython-input-3-29830c9896ac>\", line 10, in <module>\n",
      "    hdus = fits.open(path + image)[0]\n",
      "  File \"/anaconda3/lib/python3.7/site-packages/astropy/io/fits/hdu/hdulist.py\", line 151, in fitsopen\n",
      "  File \"/anaconda3/lib/python3.7/site-packages/astropy/io/fits/hdu/hdulist.py\", line 390, in fromfile\n",
      "  File \"/anaconda3/lib/python3.7/site-packages/astropy/io/fits/hdu/hdulist.py\", line 1039, in _readfrom\n",
      "  File \"/anaconda3/lib/python3.7/site-packages/astropy/utils/decorators.py\", line 521, in wrapper\n",
      "  File \"/anaconda3/lib/python3.7/site-packages/astropy/io/fits/file.py\", line 178, in __init__\n",
      "  File \"/anaconda3/lib/python3.7/site-packages/astropy/io/fits/file.py\", line 547, in _open_filename\n",
      "  File \"/anaconda3/lib/python3.7/site-packages/astropy/io/fits/util.py\", line 397, in fileobj_open\n",
      "OSError: [Errno 24] Too many open files: './data/HSC_PSF/41-psf-calexp-pdr2_dud-HSC-I-9813-2,2-150.58136-1.92691.fits'\n",
      "\n",
      "During handling of the above exception, another exception occurred:\n",
      "\n",
      "Traceback (most recent call last):\n",
      "  File \"/anaconda3/lib/python3.7/site-packages/IPython/core/interactiveshell.py\", line 2040, in showtraceback\n",
      "AttributeError: 'OSError' object has no attribute '_render_traceback_'\n",
      "\n",
      "During handling of the above exception, another exception occurred:\n",
      "\n",
      "Traceback (most recent call last):\n",
      "  File \"/anaconda3/lib/python3.7/site-packages/IPython/core/ultratb.py\", line 1101, in get_records\n",
      "  File \"/anaconda3/lib/python3.7/site-packages/IPython/core/ultratb.py\", line 319, in wrapped\n",
      "  File \"/anaconda3/lib/python3.7/site-packages/IPython/core/ultratb.py\", line 353, in _fixed_getinnerframes\n",
      "  File \"/anaconda3/lib/python3.7/inspect.py\", line 1502, in getinnerframes\n",
      "  File \"/anaconda3/lib/python3.7/inspect.py\", line 1460, in getframeinfo\n",
      "  File \"/anaconda3/lib/python3.7/inspect.py\", line 696, in getsourcefile\n",
      "  File \"/anaconda3/lib/python3.7/inspect.py\", line 725, in getmodule\n",
      "  File \"/anaconda3/lib/python3.7/inspect.py\", line 709, in getabsfile\n",
      "  File \"/anaconda3/lib/python3.7/posixpath.py\", line 383, in abspath\n",
      "OSError: [Errno 24] Too many open files\n"
     ]
    },
    {
     "ename": "OSError",
     "evalue": "[Errno 24] Too many open files: './data/HSC_PSF/41-psf-calexp-pdr2_dud-HSC-I-9813-2,2-150.58136-1.92691.fits'",
     "output_type": "error",
     "traceback": [
      "\u001b[0;31m---------------------------------------------------------------------------\u001b[0m"
     ]
    }
   ],
   "source": [
    "path = './data/HSC_PSF/'\n",
    "path_cube_hsc_psf = './data/HSC_PSF_cube'\n",
    "\n",
    "#sort HSC PSF fits files based on their starting name index in an ordered list\n",
    "images = []\n",
    "\n",
    "for i in range (2, len(os.listdir(path))+1):\n",
    "    for image in os.listdir(path):\n",
    "        if re.match(str(i)+'-', image):\n",
    "            hdus = fits.open(path + image)[0]\n",
    "            img = hdus.data\n",
    "            ny, nx = img.shape\n",
    "            cut = Cutout2D(img, (ny//2, nx//2), (40, 40), wcs = None)\n",
    "            images.append(cut.data)\n",
    "#             plt.imshow(cut.data)\n",
    "#             plt.show()\n",
    "            \n",
    "ind = 2\n",
    "for i in range(0, len(images), 5):\n",
    "    \n",
    "    hdu = fits.PrimaryHDU(images[i : i+5])\n",
    "    hdul = pf.HDUList([hdu])\n",
    "    \n",
    "    hdul.writeto(path_cube_hsc_psf + f'/{ind}-cube_hsc_psf.fits', clobber=True)\n",
    "    ind += 1\n"
   ]
  },
  {
   "cell_type": "markdown",
   "metadata": {},
   "source": [
    "### 3. HST Cut\n",
    "This code will cut the HST images in order to match the size of HSC images, HST are almost 5 times higher in resolution than HSC images."
   ]
  },
  {
   "cell_type": "code",
   "execution_count": null,
   "metadata": {},
   "outputs": [],
   "source": [
    "path = './data/acs_mosaic_2.0/'\n",
    "\n",
    "images = []\n",
    "wcss = []\n",
    "\n",
    "for i in range (2, len(os.listdir(path))+1):\n",
    "    for image in os.listdir(path):\n",
    "        if re.match(str(i)+'_', image):\n",
    "            hdus = fits.open(path + image)\n",
    "            wcs = WCS(hdus[0].header)\n",
    "            img = hdus[0].data\n",
    "            ny, nx = img.shape\n",
    "            cut = Cutout2D(img, (ny//2, nx//2), (125, 125), wcs = wcs)\n",
    "            images.append(cut.data)\n",
    "            wcss.append(cut.wcs)\n",
    "#             plt.imshow(img)\n",
    "#             plt.show()\n",
    "\n",
    "# # creat a folder to save the HST_cut images \n",
    "path_hst_cut = './data/HST_CUT'\n",
    "    \n",
    "\n",
    "ind = 2\n",
    "for i in range(0, len(images)):\n",
    "    \n",
    "    hdu = fits.PrimaryHDU(images[i], wcss[i].to_header())\n",
    "\n",
    "    hdul = pf.HDUList([hdu])\n",
    "    hdul.writeto(path_hst_cut + f'/{ind}-hst_cut_cosmos.fits', clobber=True)\n",
    "    ind += 1\n",
    "\n",
    "\n",
    "#     asinh= scarlet.display.AsinhMapping(minimum=img.min(), stretch=1, Q=1)\n",
    "#     img_rgb= scarlet.display.img_to_rgb(images[i], norm=asinh)\n",
    "\n",
    "#     plt.imshow(img_rgb)\n",
    "#     plt.show()\n"
   ]
  },
  {
   "cell_type": "code",
   "execution_count": null,
   "metadata": {},
   "outputs": [],
   "source": []
  },
  {
   "cell_type": "code",
   "execution_count": null,
   "metadata": {},
   "outputs": [],
   "source": []
  },
  {
   "cell_type": "code",
   "execution_count": null,
   "metadata": {},
   "outputs": [],
   "source": []
  }
 ],
 "metadata": {
  "kernelspec": {
   "display_name": "Python 3",
   "language": "python",
   "name": "python3"
  },
  "language_info": {
   "codemirror_mode": {
    "name": "ipython",
    "version": 3
   },
   "file_extension": ".py",
   "mimetype": "text/x-python",
   "name": "python",
   "nbconvert_exporter": "python",
   "pygments_lexer": "ipython3",
   "version": "3.7.3"
  }
 },
 "nbformat": 4,
 "nbformat_minor": 4
}
